{
 "cells": [
  {
   "cell_type": "markdown",
   "metadata": {},
   "source": [
    "# Programming Exercise 1: Linear Regression"
   ]
  },
  {
   "cell_type": "markdown",
   "metadata": {},
   "source": [
    "This notebook contains ex1 assignements with my solutions. The purpose of this notebook is to make learning material more accessible and interactive. "
   ]
  },
  {
   "cell_type": "markdown",
   "metadata": {},
   "source": [
    "## Introduction\n",
    "In this exercise, we will implement linear regression and get to see it work on data."
   ]
  },
  {
   "cell_type": "markdown",
   "metadata": {},
   "source": [
    "## 1 Simple Octave/Matlab function\n",
    "The first part of ex1.m gives you practice with Octave/MATLAB syntax and the homework submission process. In the file warmUpExercise.m, you will find the outline of an Octave/MATLAB function. Modify it to return a 5 x 5 identity matrix by filling in the following code:"
   ]
  },
  {
   "cell_type": "code",
   "execution_count": 4,
   "metadata": {},
   "outputs": [
    {
     "name": "stdout",
     "output_type": "stream",
     "text": [
      "A =\r\n",
      "\r\n",
      "Diagonal Matrix\r\n",
      "\r\n",
      "   1   0   0   0   0\r\n",
      "   0   1   0   0   0\r\n",
      "   0   0   1   0   0\r\n",
      "   0   0   0   1   0\r\n",
      "   0   0   0   0   1\r\n",
      "\r\n"
     ]
    }
   ],
   "source": [
    "% If you don't want to display the result of a function add ;\n",
    "A = eye(5)"
   ]
  },
  {
   "cell_type": "markdown",
   "metadata": {},
   "source": [
    "When you are finished, run ex1.m (assuming you are in the correct directory, type “ex1” at the Octave/MATLAB prompt) and you should see\n",
    "output similar to the following:\n",
    "\n",
    "N.B: Whenever the instructions in pdf says to execute ex1.m I execute in the cell below only the part needed for the question."
   ]
  },
  {
   "cell_type": "code",
   "execution_count": 4,
   "metadata": {},
   "outputs": [
    {
     "name": "stdout",
     "output_type": "stream",
     "text": [
      "Running warmUpExercise ... \n",
      "5x5 Identity Matrix: \n",
      "ans =\n",
      "\n",
      "Diagonal Matrix\n",
      "\n",
      "   1   0   0   0   0\n",
      "   0   1   0   0   0\n",
      "   0   0   1   0   0\n",
      "   0   0   0   1   0\n",
      "   0   0   0   0   1\n",
      "\n"
     ]
    }
   ],
   "source": [
    "%% ==================== Part 1: Basic Function ====================\n",
    "% Complete warmUpExercise.m\n",
    "fprintf('Running warmUpExercise ... \\n');\n",
    "fprintf('5x5 Identity Matrix: \\n');\n",
    "warmUpExercise()"
   ]
  },
  {
   "cell_type": "markdown",
   "metadata": {},
   "source": [
    "### 1.1 Submitting solutions\n",
    "After completing a part of the exercise, you can submit your solutions for grading by typing submit at the Octave/MATLAB command line. The submission script will prompt you for your login e-mail and submission token and ask you which files you want to submit. You can obtain a submission token from the web page for the assignment."
   ]
  },
  {
   "cell_type": "markdown",
   "metadata": {},
   "source": [
    "You should now submit your solutions."
   ]
  },
  {
   "cell_type": "code",
   "execution_count": 1,
   "metadata": {},
   "outputs": [],
   "source": [
    "% This should be ran from octave/matlab IDE to provide input\n",
    "%submit"
   ]
  },
  {
   "cell_type": "markdown",
   "metadata": {},
   "source": [
    "## 2 Linear Regression with one variable\n",
    "\n",
    "In this part of this exercise, you will implement linear regression with one variable to predict profits for a food truck. Suppose you are the CEO of a restaurant franchise and are considering different cities for opening a new outlet. The chain already has trucks in various cities and you have data for profits and populations from the cities.\n",
    "The file ex1data1.txt contains the dataset for our linear regression problem. The first column is the population of a city and the second column is the profit of a food truck in that city. A negative value for profit indicates a loss.\n",
    "The ex1.m script has already been set up to load this data for you."
   ]
  },
  {
   "cell_type": "markdown",
   "metadata": {},
   "source": [
    "### 2.1 Plotting Data \n",
    "Before starting on any task, it is often useful to understand the data by visualizing it. For this dataset, you can use a scatter plot to visualize the data, since it has only two properties to plot (profit and population). (Many other problems that you will encounter in real life are multi-dimensional and can’t be plotted on a 2-d plot.)\n",
    "In ex1.m, the dataset is loaded from the data file into the variables X and y:"
   ]
  },
  {
   "cell_type": "code",
   "execution_count": 10,
   "metadata": {},
   "outputs": [
    {
     "name": "stdout",
     "output_type": "stream",
     "text": [
      "Plotting Data ...\r\n"
     ]
    },
    {
     "data": {
      "image/png": "[encoded data removed]",
      "text/plain": [
       "<IPython.core.display.Image object>"
      ]
     },
     "metadata": {},
     "output_type": "display_data"
    }
   ],
   "source": [
    "%% ======================= Part 2: Plotting =======================\n",
    "fprintf('Plotting Data ...\\n')\n",
    "data = load('ex1data1.txt');\n",
    "X = data(:, 1); y = data(:, 2);\n",
    "m = length(y); % number of training examples\n",
    "\n",
    "% Plot Data\n",
    "% Note: You have to complete the code in plotData.m\n",
    "plotData(X, y)"
   ]
  },
  {
   "cell_type": "markdown",
   "metadata": {},
   "source": [
    "### 2.2 Gradient Descent\n",
    "In this part, you will fit the linear regression parameters θ to our dataset using gradient descent."
   ]
  },
  {
   "cell_type": "markdown",
   "metadata": {},
   "source": [
    "#### 2.2.1 Update Equations\n",
    "The objective of linear regression is to minimize the cost function J(θ) where the hypothesis hθ(x) is given by the linear model\n",
    "\n",
    "hθ(x) = θTx = θ0 + θ1x1\n",
    "\n",
    "Recall that the parameters of your model are the θ j values. These are\n",
    "the values you will adjust to minimize cost J(θ). One way to do this is to use the batch gradient descent algorithm. In batch gradient descent, each iteration performs the update (simultaneously update θ j for all j).\n",
    "With each step of gradient descent, your parameters θ j come closer to the optimal values that will achieve the lowest cost J(θ).\n",
    "\n",
    ">Implementation Note: We store each example as a row in the the X\n",
    "matrix in Octave/MATLAB. To take into account the intercept term (θ 0 ),\n",
    "we add an additional first column to X and set it to all ones. This allows\n",
    "us to treat θ 0 as simply another ‘feature’."
   ]
  },
  {
   "cell_type": "markdown",
   "metadata": {},
   "source": [
    "#### 2.2.2 Implementation\n",
    "In ex1.m, we have already set up the data for linear regression. In the following lines, we add another dimension to our data to accommodate the θ0 intercept term. We also initialize the initial parameters to 0 and the learning rate alpha to 0.01."
   ]
  },
  {
   "cell_type": "code",
   "execution_count": 11,
   "metadata": {},
   "outputs": [
    {
     "name": "stdout",
     "output_type": "stream",
     "text": [
      "X =\n",
      "\n",
      "    1.0000    6.1101\n",
      "    1.0000    5.5277\n",
      "    1.0000    8.5186\n",
      "    1.0000    7.0032\n",
      "    1.0000    5.8598\n",
      "    1.0000    8.3829\n",
      "    1.0000    7.4764\n",
      "    1.0000    8.5781\n",
      "    1.0000    6.4862\n",
      "    1.0000    5.0546\n",
      "    1.0000    5.7107\n",
      "    1.0000   14.1640\n",
      "    1.0000    5.7340\n",
      "    1.0000    8.4084\n",
      "    1.0000    5.6407\n",
      "    1.0000    5.3794\n",
      "    1.0000    6.3654\n",
      "    1.0000    5.1301\n",
      "    1.0000    6.4296\n",
      "    1.0000    7.0708\n",
      "    1.0000    6.1891\n",
      "    1.0000   20.2700\n",
      "    1.0000    5.4901\n",
      "    1.0000    6.3261\n",
      "    1.0000    5.5649\n",
      "    1.0000   18.9450\n",
      "    1.0000   12.8280\n",
      "    1.0000   10.9570\n",
      "    1.0000   13.1760\n",
      "    1.0000   22.2030\n",
      "    1.0000    5.2524\n",
      "    1.0000    6.5894\n",
      "    1.0000    9.2482\n",
      "    1.0000    5.8918\n",
      "    1.0000    8.2111\n",
      "    1.0000    7.9334\n",
      "    1.0000    8.0959\n",
      "    1.0000    5.6063\n",
      "    1.0000   12.8360\n",
      "    1.0000    6.3534\n",
      "    1.0000    5.4069\n",
      "    1.0000    6.8825\n",
      "    1.0000   11.7080\n",
      "    1.0000    5.7737\n",
      "    1.0000    7.8247\n",
      "    1.0000    7.0931\n",
      "    1.0000    5.0702\n",
      "    1.0000    5.8014\n",
      "    1.0000   11.7000\n",
      "    1.0000    5.5416\n",
      "    1.0000    7.5402\n",
      "    1.0000    5.3077\n",
      "    1.0000    7.4239\n",
      "    1.0000    7.6031\n",
      "    1.0000    6.3328\n",
      "    1.0000    6.3589\n",
      "    1.0000    6.2742\n",
      "    1.0000    5.6397\n",
      "    1.0000    9.3102\n",
      "    1.0000    9.4536\n",
      "    1.0000    8.8254\n",
      "    1.0000    5.1793\n",
      "    1.0000   21.2790\n",
      "    1.0000   14.9080\n",
      "    1.0000   18.9590\n",
      "    1.0000    7.2182\n",
      "    1.0000    8.2951\n",
      "    1.0000   10.2360\n",
      "    1.0000    5.4994\n",
      "    1.0000   20.3410\n",
      "    1.0000   10.1360\n",
      "    1.0000    7.3345\n",
      "    1.0000    6.0062\n",
      "    1.0000    7.2259\n",
      "    1.0000    5.0269\n",
      "    1.0000    6.5479\n",
      "    1.0000    7.5386\n",
      "    1.0000    5.0365\n",
      "    1.0000   10.2740\n",
      "    1.0000    5.1077\n",
      "    1.0000    5.7292\n",
      "    1.0000    5.1884\n",
      "    1.0000    6.3557\n",
      "    1.0000    9.7687\n",
      "    1.0000    6.5159\n",
      "    1.0000    8.5172\n",
      "    1.0000    9.1802\n",
      "    1.0000    6.0020\n",
      "    1.0000    5.5204\n",
      "    1.0000    5.0594\n",
      "    1.0000    5.7077\n",
      "    1.0000    7.6366\n",
      "    1.0000    5.8707\n",
      "    1.0000    5.3054\n",
      "    1.0000    8.2934\n",
      "    1.0000   13.3940\n",
      "    1.0000    5.4369\n",
      "\n",
      "theta =\n",
      "\n",
      "   0\n",
      "   0\n",
      "\n",
      "iterations =  1500\n",
      "alpha =  0.010000\n"
     ]
    }
   ],
   "source": [
    "X = [ones(m, 1), data(:,1)] % Add a column of ones to x\n",
    "theta = zeros(2, 1) % initialize fitting parameters\n",
    "iterations = 1500\n",
    "alpha = 0.01"
   ]
  },
  {
   "cell_type": "markdown",
   "metadata": {},
   "source": [
    "#### 2.2.3 Computing the cost J(θ)\n",
    "As you perform gradient descent to learn minimize the cost function J(θ),it is helpful to monitor the convergence by computing the cost. In this section, you will implement a function to calculate J(θ) so you can check the convergence of your gradient descent implementation.\n",
    "Your next task is to complete the code in the file computeCost.m, which is a function that computes J(θ). As you are doing this, remember that the variables X and y are not scalar values, but matrices whose rows represent the examples from the training set.\n",
    "Once you have completed the function, the next step in ex1.m will run\n",
    "computeCost once using θ initialized to zeros, and you will see the cost printed to the screen.\n",
    "You should expect to see a cost of 32.07."
   ]
  },
  {
   "cell_type": "code",
   "execution_count": 12,
   "metadata": {},
   "outputs": [
    {
     "name": "stdout",
     "output_type": "stream",
     "text": [
      "With theta = [0 ; 0]\n",
      "Cost computed = 32.072734\n",
      "Expected cost value (approx) 32.07\n"
     ]
    }
   ],
   "source": [
    "% compute and display initial cost\n",
    "J = computeCost(X, y, theta);\n",
    "fprintf('With theta = [0 ; 0]\\nCost computed = %f\\n', J);\n",
    "fprintf('Expected cost value (approx) 32.07\\n');"
   ]
  },
  {
   "cell_type": "markdown",
   "metadata": {},
   "source": [
    "You should now submit your solutions."
   ]
  },
  {
   "cell_type": "markdown",
   "metadata": {},
   "source": [
    "#### 2.2.4 Gradient Descent\n",
    "\n",
    "Next, you will implement gradient descent in the file gradientDescent.m.\n",
    "The loop structure has been written for you, and you only need to supply the updates to θ within each iteration.\n",
    "As you program, make sure you understand what you are trying to opti-\n",
    "mize and what is being updated. Keep in mind that the cost J(θ) is parameterized by the vector θ, not X and y. That is, we minimize the value of J(θ) by changing the values of the vector θ, not by changing X or y. Refer to the equations in this handout and to the video lectures if you are uncertain.\n",
    "A good way to verify that gradient descent is working correctly is to look at the value of J(θ) and check that it is decreasing with each step. The starter code for gradientDescent.m calls computeCost on every iteration and prints the cost. Assuming you have implemented gradient descent and computeCost correctly, your value of J(θ) should never increase, and should converge to a steady value by the end of the algorithm.\n",
    "After you are finished, ex1.m will use your final parameters to plot the linear fit. The result should look something like Figure 2:\n",
    "Your final values for θ will also be used to make predictions on profits in areas of 35,000 and 70,000 people. Note the way that the following lines in ex1.m uses matrix multiplication, rather than explicit summation or looping, to calculate the predictions. This is an example of code vectorization in\n",
    "Octave/MATLAB."
   ]
  },
  {
   "cell_type": "code",
   "execution_count": 13,
   "metadata": {},
   "outputs": [
    {
     "name": "stdout",
     "output_type": "stream",
     "text": [
      "Theta found by gradient descent:\n",
      "-3.630291\n",
      "1.166362\n",
      "Expected theta values (approx)\n",
      " -3.6303\n",
      "  1.1664\n",
      "\n"
     ]
    }
   ],
   "source": [
    "% run gradient descent\n",
    "theta = gradientDescent(X, y, theta, alpha, iterations);\n",
    "\n",
    "% print theta to screen\n",
    "fprintf('Theta found by gradient descent:\\n');\n",
    "fprintf('%f\\n', theta);\n",
    "fprintf('Expected theta values (approx)\\n');\n",
    "fprintf(' -3.6303\\n  1.1664\\n\\n');"
   ]
  },
  {
   "cell_type": "code",
   "execution_count": 22,
   "metadata": {},
   "outputs": [
    {
     "name": "stdout",
     "output_type": "stream",
     "text": [
      "warning: legend: ignoring extra labels\r\n",
      "warning: called from\r\n",
      "    legend at line 432 column 9\r\n"
     ]
    },
    {
     "data": {
      "image/png": "[encoded data removed]",
      "text/plain": [
       "<IPython.core.display.Image object>"
      ]
     },
     "metadata": {},
     "output_type": "display_data"
    }
   ],
   "source": [
    "% Plot the linear fit\n",
    "plotData(X, y) \n",
    "hold on;% keep previous plot visible\n",
    "plot(X(:,2), X*theta, '-')\n",
    "legend('Training data', 'Linear regression')\n",
    "hold off % don't overlay any more plots on this figure"
   ]
  },
  {
   "cell_type": "code",
   "execution_count": null,
   "metadata": {},
   "outputs": [],
   "source": []
  }
 ],
 "metadata": {
  "kernelspec": {
   "display_name": "Octave",
   "language": "octave",
   "name": "octave"
  },
  "language_info": {
   "file_extension": ".m",
   "help_links": [
    {
     "text": "GNU Octave",
     "url": "https://www.gnu.org/software/octave/support.html"
    },
    {
     "text": "Octave Kernel",
     "url": "https://github.com/Calysto/octave_kernel"
    },
    {
     "text": "MetaKernel Magics",
     "url": "https://metakernel.readthedocs.io/en/latest/source/README.html"
    }
   ],
   "mimetype": "text/x-octave",
   "name": "octave",
   "version": "4.2.2"
  }
 },
 "nbformat": 4,
 "nbformat_minor": 4
}
