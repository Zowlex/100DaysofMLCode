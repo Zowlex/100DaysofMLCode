{
 "cells": [
  {
   "cell_type": "markdown",
   "metadata": {},
   "source": [
    "# Programming Exercise 2: Logistic Regression"
   ]
  },
  {
   "cell_type": "markdown",
   "metadata": {},
   "source": [
    "## Introduction\n",
    "In this exercise, you will implement logistic regression and apply it to two different datasets. Before starting on the programming exercise, we strongly recommend watching the video lectures and completing the review questions for the associated topics.\n",
    "To get started with the exercise, you will need to download the starter code and unzip its contents to the directory where you wish to complete the exercise. If needed, use the cd command in Octave/MATLAB to change to this directory before starting this exercise.\n",
    "You can also find instructions for installing Octave/MATLAB in the “Environment Setup Instructions” of the course website."
   ]
  },
  {
   "cell_type": "markdown",
   "metadata": {},
   "source": [
    "## 1 Logistic Regression\n",
    "\n",
    "In this part of the exercise, you will build a logistic regression model to predict whether a student gets admitted into a university.\n",
    "Suppose that you are the administrator of a university department and\n",
    "you want to determine each applicant’s chance of admission based on their results on two exams. You have historical data from previous applicants that you can use as a training set for logistic regression. For each training example, you have the applicant’s scores on two exams and the admissions decision.\n",
    "Your task is to build a classification model that estimates an applicant’s probability of admission based the scores from those two exams. This outline and the framework code in ex2.m will guide you through the exercise."
   ]
  },
  {
   "cell_type": "markdown",
   "metadata": {},
   "source": [
    "### 1.1 Visualizing the data\n",
    "\n",
    "Before starting to implement any learning algorithm, it is always good to visualize the data if possible. In the first part of ex2.m, the code will load the data and display it on a 2-dimensional plot by calling the function plotData.\n",
    "You will now complete the code in plotData so that it displays a figure like Figure 1, where the axes are the two exam scores, and the positive and negative examples are shown with different markers."
   ]
  },
  {
   "cell_type": "code",
   "execution_count": 24,
   "metadata": {},
   "outputs": [],
   "source": [
    "# plotData.m\n",
    "function plotData(X, y)\n",
    "    figure; hold on;\n",
    "    idPos = find(y==1);\n",
    "    idNeg = find(y==0);\n",
    "\n",
    "    %pos: positive examples from training set (meaning the student passes)\n",
    "    pos = X(idPos,1:2);\n",
    "    %neg: negative examples from training set (meaning the student fails)\n",
    "    neg = X(idNeg,1:2);\n",
    "\n",
    "    plot(pos(:,1),pos(:,2),\"k+\",\"LineWidth\",3);\n",
    "    plot(neg(:,1),neg(:,2),\"yo\",\"LineWidth\",3);\n",
    "    hold off;\n",
    "\n",
    "end"
   ]
  },
  {
   "cell_type": "code",
   "execution_count": 25,
   "metadata": {},
   "outputs": [
    {
     "name": "stdout",
     "output_type": "stream",
     "text": [
      "Plotting data with + indicating (y = 1) examples and o indicating (y = 0) examples.\r\n"
     ]
    },
    {
     "data": {
      "image/png": "[encoded data removed]",
      "text/plain": [
       "<IPython.core.display.Image object>"
      ]
     },
     "metadata": {},
     "output_type": "display_data"
    }
   ],
   "source": [
    "data = load('ex2data1.txt');\n",
    "X = data(:, [1, 2]); y = data(:, 3);\n",
    "\n",
    "%% ==================== Part 1: Plotting ====================\n",
    "%  We start the exercise by first plotting the data to understand the \n",
    "%  the problem we are working with.\n",
    "\n",
    "fprintf(['Plotting data with + indicating (y = 1) examples and o ' ...\n",
    "         'indicating (y = 0) examples.\\n']);\n",
    "\n",
    "plotData(X, y);\n",
    "\n",
    "% Put some labels \n",
    "hold on;\n",
    "% Labels and Legend\n",
    "xlabel('Exam 1 score')\n",
    "ylabel('Exam 2 score')\n",
    "\n",
    "% Specified in plot order\n",
    "legend('Admitted', 'Not admitted')"
   ]
  },
  {
   "cell_type": "markdown",
   "metadata": {},
   "source": [
    "### 1.2 Implementation\n",
    "\n",
    "#### 1.2.1 Warmup exercise: sigmoid function\n",
    "\n",
    "Before you start with the actual cost function, recall that the logistic regression hypothesis is defined as:\n",
    "                \n",
    "                hθ(x) = g(θTx)\n",
    "\n",
    "where function g is the sigmoid function. The sigmoid function is defined as:\n",
    "\n",
    "                g(z) = 1/1+exp(-z)\n",
    "\n",
    "Your first step is to implement this function in sigmoid.m so it can be called by the rest of your program. When you are finished, try testing a few values by calling sigmoid(x) at the Octave/MATLAB command line. For large positive values of x, the sigmoid should be close to 1, while for large negative values, the sigmoid should be close to 0. Evaluating sigmoid(0) should give you exactly 0.5. Your code should also work with vectors and matrices. For a matrix, your function should perform the sigmoid function on every element.\n",
    "\n",
    "   You can submit your solution for grading by typing submit at the Octave/MATLAB command line. The submission script will prompt you for\n",
    "your login e-mail and submission token and ask you which files you want to submit. You can obtain a submission token from the web page for the assignment."
   ]
  },
  {
   "cell_type": "code",
   "execution_count": 26,
   "metadata": {},
   "outputs": [],
   "source": [
    "% sigmoid.m\n",
    "function g = sigmoid(z)\n",
    "    %SIGMOID Compute sigmoid function\n",
    "    %   g = SIGMOID(z) computes the sigmoid of z.\n",
    "\n",
    "    % You need to return the following variables correctly \n",
    "    g = zeros(size(z));\n",
    "\n",
    "    g = 1./(1+exp(-z));\n",
    "\n",
    "end"
   ]
  },
  {
   "cell_type": "code",
   "execution_count": 27,
   "metadata": {},
   "outputs": [
    {
     "name": "stdout",
     "output_type": "stream",
     "text": [
      "ans =  0.50000\r\n"
     ]
    }
   ],
   "source": [
    "sigmoid(0)"
   ]
  },
  {
   "cell_type": "markdown",
   "metadata": {},
   "source": [
    "#### 1.2.2 Cost function and gradient\n",
    "\n",
    "Now you will implement the cost function and gradient for logistic regression.\n",
    "Complete the code in costFunction.m to return the cost and gradient.\n",
    "Recall that the cost function in logistic regression is (check pdf),\n",
    "and the gradient of the cost is a vector of the same length as θ where the jth element (for j = 0, 1, . . . , n) is defined as follows: (check pdf)\n",
    "\n",
    "Note that while this gradient looks identical to the linear regression gradient, the formula is actually different because linear and logistic regression have different definitions of h θ (x).\n",
    "Once you are done, ex2.m will call your costFunction using the initial\n",
    "parameters of θ. You should see that the cost is about **0.693**\n",
    "    "
   ]
  },
  {
   "cell_type": "code",
   "execution_count": 28,
   "metadata": {},
   "outputs": [],
   "source": [
    "% CostFunction.m\n",
    "function [J, grad] = costFunction(theta, X, y)\n",
    "    %COSTFUNCTION Compute cost and gradient for logistic regression\n",
    "    %   J = COSTFUNCTION(theta, X, y) computes the cost of using theta as the\n",
    "    %   parameter for logistic regression and the gradient of the cost\n",
    "    %   w.r.t. to the parameters.\n",
    "\n",
    "    % Initialize some useful values\n",
    "    m = length(y); % number of training examples\n",
    "\n",
    "    % You need to return the following variables correctly \n",
    "    J = 0;\n",
    "    grad = zeros(size(theta));\n",
    "\n",
    "    h = sigmoid(X * theta);\n",
    "    %cost function\n",
    "    J = 1/m*sum((-y'*log(h))-(1-y)'*log(1-h))\n",
    "    %gradient descent\n",
    "    grad = 1/m * (X' * (h-y));\n",
    "\n",
    "end"
   ]
  },
  {
   "cell_type": "code",
   "execution_count": 29,
   "metadata": {},
   "outputs": [
    {
     "name": "stdout",
     "output_type": "stream",
     "text": [
      "J =  0.69315\n",
      "Cost at initial theta (zeros): 0.693147\n",
      "Expected cost (approx): 0.693\n",
      "Gradient at initial theta (zeros): \n",
      " -0.100000 \n",
      " -12.009217 \n",
      " -11.262842 \n",
      "Expected gradients (approx):\n",
      " -0.1000\n",
      " -12.0092\n",
      " -11.2628\n",
      "J =  0.21833\n",
      "\n",
      "Cost at test theta: 0.218330\n",
      "Expected cost (approx): 0.218\n",
      "Gradient at test theta: \n",
      " 0.042903 \n",
      " 2.566234 \n",
      " 2.646797 \n",
      "Expected gradients (approx):\n",
      " 0.043\n",
      " 2.566\n",
      " 2.647\n"
     ]
    }
   ],
   "source": [
    "%% ============ Part 2: Compute Cost and Gradient ============\n",
    "%  In this part of the exercise, you will implement the cost and gradient\n",
    "%  for logistic regression. You neeed to complete the code in \n",
    "%  costFunction.m\n",
    "\n",
    "%  Setup the data matrix appropriately, and add ones for the intercept term\n",
    "[m, n] = size(X);\n",
    "\n",
    "% Add intercept term to x and X_test\n",
    "X = [ones(m, 1) X];\n",
    "\n",
    "% Initialize fitting parameters\n",
    "initial_theta = zeros(n + 1, 1);\n",
    "\n",
    "% Compute and display initial cost and gradient\n",
    "[cost, grad] = costFunction(initial_theta, X, y);\n",
    "\n",
    "fprintf('Cost at initial theta (zeros): %f\\n', cost);\n",
    "fprintf('Expected cost (approx): 0.693\\n');\n",
    "fprintf('Gradient at initial theta (zeros): \\n');\n",
    "fprintf(' %f \\n', grad);\n",
    "fprintf('Expected gradients (approx):\\n -0.1000\\n -12.0092\\n -11.2628\\n');\n",
    "\n",
    "% Compute and display cost and gradient with non-zero theta\n",
    "test_theta = [-24; 0.2; 0.2];\n",
    "[cost, grad] = costFunction(test_theta, X, y);\n",
    "\n",
    "fprintf('\\nCost at test theta: %f\\n', cost);\n",
    "fprintf('Expected cost (approx): 0.218\\n');\n",
    "fprintf('Gradient at test theta: \\n');\n",
    "fprintf(' %f \\n', grad);\n",
    "fprintf('Expected gradients (approx):\\n 0.043\\n 2.566\\n 2.647\\n');"
   ]
  },
  {
   "cell_type": "markdown",
   "metadata": {},
   "source": [
    "#### 1.2.3 Learning parameters using *fminunc*\n",
    "\n",
    "In the previous assignment, you found the optimal parameters of a linear regression model by implementing gradent descent. You wrote a cost function and calculated its gradient, then took a gradient descent step accordingly.\n",
    "This time, instead of taking gradient descent steps, you will use an Octave/MATLAB built-in function called fminunc.\n",
    "Octave/MATLAB’s fminunc is an optimization solver that finds the min-\n",
    "imum of an unconstrained 2 function. For logistic regression, you want to optimize the cost function J(θ) with parameters θ.\n",
    "Concretely, you are going to use fminunc to find the best parameters θ\n",
    "for the logistic regression cost function, given a fixed dataset (of X and y values). You will pass to fminunc the following inputs:\n",
    "- The initial values of the parameters we are trying to optimize.\n",
    "- A function that, when given the training set and a particular θ, computes the logistic regression cost and gradient with respect to θ for the dataset (X, y)\n",
    "\n",
    "In ex2.m, we already have code written to call fminunc with the correct arguments."
   ]
  },
  {
   "cell_type": "code",
   "execution_count": 13,
   "metadata": {},
   "outputs": [],
   "source": [
    "% % Set options for fminunc\n",
    "% options = optimset('GradObj', 'on', 'MaxIter', 400);\n",
    "% % Run fminunc to obtain the optimal theta\n",
    "% % This function will return theta and the cost\n",
    "% [theta, cost] = ...\n",
    "% fminunc(@(t)(costFunction(t, X, y)), initial theta, options);"
   ]
  },
  {
   "cell_type": "markdown",
   "metadata": {},
   "source": [
    "In this code snippet, we first defined the options to be used with fminunc.\n",
    "Specifically, we set the GradObj option to on, which tells fminunc that our function returns both the cost and the gradient. This allows fminunc to use the gradient when minimizing the function. Furthermore, we set the MaxIter option to 400, so that fminunc will run for at most 400 steps before it terminates.\n",
    "\n",
    "To specify the actual function we are minimizing, we use a “short-hand” for specifying functions with the **@(t) (costFunction(t, X, y)).** This creates a function, with argument t, which calls your costFunction. This allows us to wrap the costFunction for use with fminunc.\n",
    "\n",
    "If you have completed the costFunction correctly, fminunc will converge on the right optimization parameters and return the final values of the cost and θ. Notice that by using fminunc, you did not have to write any loops yourself, or set a learning rate like you did for gradient descent. This is all done by fminunc: you only needed to provide a function calculating the cost and the gradient.\n",
    "\n",
    "Once fminunc completes, ex2.m will call your costFunction function\n",
    "using the optimal parameters of θ. You should see that the cost is about 0.203.\n",
    "\n",
    "This final θ value will then be used to plot the decision boundary on the training data, resulting in a figure similar to Figure 2. We also encourage you to look at the code in plotDecisionBoundary.m to see how to plot such a boundary using the θ values."
   ]
  },
  {
   "cell_type": "code",
   "execution_count": 30,
   "metadata": {
    "scrolled": true
   },
   "outputs": [
    {
     "name": "stdout",
     "output_type": "stream",
     "text": [
      "J =  0.69315\n",
      "J =  0.69315\n",
      "J =  3.0133\n",
      "J =  1.5207\n",
      "J =  0.73361\n",
      "J =  0.64053\n",
      "J =  0.64053\n",
      "J =  0.62985\n",
      "J =  0.62985\n",
      "J =  0.62931\n",
      "J =  0.62931\n",
      "J =  0.62903\n",
      "J =  0.62903\n",
      "J =  0.62785\n",
      "J =  0.62785\n",
      "J =  0.62719\n",
      "J =  0.62719\n",
      "J =  0.62624\n",
      "J =  0.62624\n",
      "J =  0.62493\n",
      "J =  0.62493\n",
      "J =  0.62309\n",
      "J =  0.62309\n",
      "J =  0.62050\n",
      "J =  0.62050\n",
      "J =  0.61685\n",
      "J =  0.61685\n",
      "J =  0.61176\n",
      "J =  0.61176\n",
      "J =  0.60463\n",
      "J =  0.60463\n",
      "J =  0.59474\n",
      "J =  0.59474\n",
      "J =  0.58104\n",
      "J =  0.58104\n",
      "J =  0.56554\n",
      "J =  0.56554\n",
      "J =  0.53773\n",
      "J =  0.53773\n",
      "J =  0.50443\n",
      "J =  0.50443\n",
      "J =  0.46260\n",
      "J =  0.46260\n",
      "J =  0.41252\n",
      "J =  0.41252\n",
      "J =  0.35699\n",
      "J =  0.35699\n",
      "J =  0.30172\n",
      "J =  0.30172\n",
      "J =  0.25401\n",
      "J =  0.25401\n",
      "J =  0.22286\n",
      "J =  0.22286\n",
      "J =  0.20958\n",
      "J =  0.20958\n",
      "J =  0.20468\n",
      "J =  0.20468\n",
      "J =  0.20364\n",
      "J =  0.20364\n",
      "J =  0.20353\n",
      "J =  0.20353\n",
      "J =  0.20351\n",
      "J =  0.20351\n",
      "J =  0.20350\n",
      "J =  0.20350\n",
      "J =  0.20350\n",
      "J =  0.20350\n",
      "J =  0.20350\n",
      "J =  0.20350\n",
      "J =  0.20350\n",
      "Cost at theta found by fminunc: 0.203498\n",
      "Expected cost (approx): 0.203\n",
      "theta: \n",
      " -25.161272 \n",
      " 0.206233 \n",
      " 0.201470 \n",
      "Expected theta (approx):\n",
      " -25.161\n",
      " 0.206\n",
      " 0.201\n"
     ]
    }
   ],
   "source": [
    "%% ============= Part 3: Optimizing using fminunc  =============\n",
    "%  In this exercise, you will use a built-in function (fminunc) to find the\n",
    "%  optimal parameters theta.\n",
    "\n",
    "%  Set options for fminunc\n",
    "options = optimset('GradObj', 'on', 'MaxIter', 400);\n",
    "\n",
    "%  Run fminunc to obtain the optimal theta\n",
    "%  This function will return theta and the cost \n",
    "[theta, cost] = ...\n",
    "\tfminunc(@(t)(costFunction(t, X, y)), initial_theta, options);\n",
    "\n",
    "% Print theta to screen\n",
    "fprintf('Cost at theta found by fminunc: %f\\n', cost);\n",
    "fprintf('Expected cost (approx): 0.203\\n');\n",
    "fprintf('theta: \\n');\n",
    "fprintf(' %f \\n', theta);\n",
    "fprintf('Expected theta (approx):\\n');\n",
    "fprintf(' -25.161\\n 0.206\\n 0.201\\n');"
   ]
  },
  {
   "cell_type": "code",
   "execution_count": 32,
   "metadata": {},
   "outputs": [
    {
     "data": {
      "image/png": "[encoded data removed]",
      "text/plain": [
       "<IPython.core.display.Image object>"
      ]
     },
     "metadata": {},
     "output_type": "display_data"
    }
   ],
   "source": [
    "% Plot Boundary\n",
    "plotDecisionBoundary(theta, X, y);\n",
    "\n",
    "% Put some labels \n",
    "hold on;\n",
    "% Labels and Legend\n",
    "xlabel('Exam 1 score')\n",
    "ylabel('Exam 2 score')\n",
    "\n",
    "% Specified in plot order\n",
    "legend('Admitted', 'Not admitted')"
   ]
  },
  {
   "cell_type": "markdown",
   "metadata": {},
   "source": [
    "#### 1.2.4 Evaluating logistic regression\n",
    "\n",
    "After learning the parameters, you can use the model to predict whether a particular student will be admitted. For a student with an Exam 1 score of 45 and an Exam 2 score of 85, you should expect to see an admission probability of 0.776.\n",
    "Another way to evaluate the quality of the parameters we have found\n",
    "is to see how well the learned model predicts on our training set. In this part, your task is to complete the code in predict.m. The predict function will produce “1” or “0” predictions given a dataset and a learned parameter vector θ.\n",
    "After you have completed the code in predict.m, the ex2.m script will\n",
    "proceed to report the training accuracy of your classifier by computing the percentage of examples it got correct."
   ]
  },
  {
   "cell_type": "code",
   "execution_count": 33,
   "metadata": {},
   "outputs": [],
   "source": [
    "function p = predict(theta, X)\n",
    "    %PREDICT Predict whether the label is 0 or 1 using learned logistic \n",
    "    %regression parameters theta\n",
    "    %   p = PREDICT(theta, X) computes the predictions for X using a \n",
    "    %   threshold at 0.5 (i.e., if sigmoid(theta'*x) >= 0.5, predict 1)\n",
    "\n",
    "    m = size(X, 1); % Number of training examples\n",
    "\n",
    "    % initialize p\n",
    "    p = zeros(m, 1);\n",
    "    \n",
    "    p = sigmoid(X*theta)>=0.5;\n",
    "\n",
    "end"
   ]
  },
  {
   "cell_type": "code",
   "execution_count": 34,
   "metadata": {},
   "outputs": [
    {
     "name": "stdout",
     "output_type": "stream",
     "text": [
      "For a student with scores 45 and 85, we predict an admission probability of 0.776289\n",
      "Expected value: 0.775 +/- 0.002\n",
      "\n",
      "Train Accuracy: 89.000000\n",
      "Expected accuracy (approx): 89.0\n"
     ]
    }
   ],
   "source": [
    "%% ============== Part 4: Predict and Accuracies ==============\n",
    "%  After learning the parameters, you'll like to use it to predict the outcomes\n",
    "%  on unseen data. In this part, you will use the logistic regression model\n",
    "%  to predict the probability that a student with score 45 on exam 1 and \n",
    "%  score 85 on exam 2 will be admitted.\n",
    "%\n",
    "%  Furthermore, you will compute the training and test set accuracies of \n",
    "%  our model.\n",
    "%\n",
    "%  Your task is to complete the code in predict.m\n",
    "\n",
    "%  Predict probability for a student with score 45 on exam 1 \n",
    "%  and score 85 on exam 2 \n",
    "\n",
    "prob = sigmoid([1 45 85] * theta);\n",
    "fprintf(['For a student with scores 45 and 85, we predict an admission ' ...\n",
    "         'probability of %f\\n'], prob);\n",
    "fprintf('Expected value: 0.775 +/- 0.002\\n\\n');\n",
    "\n",
    "% Compute accuracy on our training set\n",
    "p = predict(theta, X);\n",
    "\n",
    "fprintf('Train Accuracy: %f\\n', mean(double(p == y)) * 100);\n",
    "fprintf('Expected accuracy (approx): 89.0\\n');"
   ]
  },
  {
   "cell_type": "markdown",
   "metadata": {},
   "source": [
    "## 2 Regularized logistic regression\n",
    "\n",
    "In this part of the exercise, you will implement regularized logistic regression to predict whether microchips from a fabrication plant passes quality assurance (QA). During QA, each microchip goes through various tests to ensure it is functioning correctly.\n",
    "Suppose you are the product manager of the factory and you have the\n",
    "test results for some microchips on two different tests. From these two tests, you would like to determine whether the microchips should be accepted or rejected. To help you make the decision, you have a dataset of test results on past microchips, from which you can build a logistic regression model."
   ]
  },
  {
   "cell_type": "markdown",
   "metadata": {},
   "source": [
    "### 2.1 Visualizing the data\n",
    "\n",
    "Similar to the previous parts of this exercise, plotData is used to generate a figure like Figure 3, where the axes are the two test scores, and the positive (y = 1, accepted) and negative (y = 0, rejected) examples are shown with different markers."
   ]
  },
  {
   "cell_type": "code",
   "execution_count": 37,
   "metadata": {},
   "outputs": [
    {
     "data": {
      "image/png": "[encoded data removed]",
      "text/plain": [
       "<IPython.core.display.Image object>"
      ]
     },
     "metadata": {},
     "output_type": "display_data"
    }
   ],
   "source": [
    "%% Load Data\n",
    "%  The first two columns contains the X values and the third column\n",
    "%  contains the label (y).\n",
    "\n",
    "data = load('ex2data2.txt');\n",
    "X = data(:, [1, 2]); y = data(:, 3);\n",
    "\n",
    "plotData(X, y);\n",
    "\n",
    "% Put some labels\n",
    "hold on;\n",
    "\n",
    "% Labels and Legend\n",
    "xlabel('Microchip Test 1')\n",
    "ylabel('Microchip Test 2')\n",
    "title('Figure 3: Plot of training data')\n",
    "\n",
    "% Specified in plot order\n",
    "legend('y = 1', 'y = 0')\n",
    "hold off;"
   ]
  },
  {
   "cell_type": "markdown",
   "metadata": {},
   "source": [
    "Figure 3 shows that our dataset cannot be separated into positive and\n",
    "negative examples by a straight-line through the plot. Therefore, a straight forward application of logistic regression will not perform well on this dataset since logistic regression will only be able to find a linear decision boundary."
   ]
  },
  {
   "cell_type": "markdown",
   "metadata": {},
   "source": [
    "### 2.2  Feature mapping\n",
    "\n",
    "One way to fit the data better is to create more features from each data point. In the provided function mapFeature.m, we will map the features into all polynomial terms of x 1 and x 2 up to the sixth power.\n",
    "\n",
    "        mapFeature(x) = [1 x1 x2 x1² x1x2 x2² ... x2^6]\n",
    "        \n",
    "As a result of this mapping, our vector of two features (the scores on\n",
    "two QA tests) has been transformed into a 28-dimensional vector. A logistic regression classifier trained on this higher-dimension feature vector will have a more complex decision boundary and will appear nonlinear when drawn in our 2-dimensional plot.\n",
    "While the feature mapping allows us to build a more expressive classifier, it also more susceptible to overfitting. In the next parts of the exercise, you will implement regularized logistic regression to fit the data and also see for yourself how regularization can help combat the overfitting problem."
   ]
  },
  {
   "cell_type": "code",
   "execution_count": 38,
   "metadata": {},
   "outputs": [],
   "source": [
    "function out = mapFeature(X1, X2)\n",
    "    % MAPFEATURE Feature mapping function to polynomial features\n",
    "    %\n",
    "    %   MAPFEATURE(X1, X2) maps the two input features\n",
    "    %   to quadratic features used in the regularization exercise.\n",
    "    %\n",
    "    %   Returns a new feature array with more features, comprising of \n",
    "    %   X1, X2, X1.^2, X2.^2, X1*X2, X1*X2.^2, etc..\n",
    "    %\n",
    "    %   Inputs X1, X2 must be the same size\n",
    "    %\n",
    "\n",
    "    degree = 6;\n",
    "    out = ones(size(X1(:,1)));\n",
    "    for i = 1:degree\n",
    "        for j = 0:i\n",
    "            out(:, end+1) = (X1.^(i-j)).*(X2.^j);\n",
    "        end\n",
    "    end\n",
    "\n",
    "end"
   ]
  },
  {
   "cell_type": "markdown",
   "metadata": {},
   "source": [
    "### 2.3 Cost function and gradient\n",
    "\n",
    "Now you will implement code to compute the cost function and gradient for regularized logistic regression. Complete the code in costFunctionReg.m to return the cost and gradient.\n",
    "Recall that the regularized cost function in logistic regression is (check pdf)\n",
    "\n",
    "Note that you should not regularize the parameter θ 0 . In Octave/MAT-\n",
    "LAB, recall that indexing starts from 1, hence, you should not be regularizing the theta(1) parameter (which corresponds to θ 0 ) in the code. The gradient of the cost function is a vector where the j th element is defined as follows: (check pdf)\n",
    "\n",
    "Once you are done, ex2 reg.m will call your costFunctionReg function\n",
    "using the initial value of θ (initialized to all zeros). You should see that the cost is about **0.693**"
   ]
  },
  {
   "cell_type": "code",
   "execution_count": 39,
   "metadata": {},
   "outputs": [
    {
     "name": "stdout",
     "output_type": "stream",
     "text": [
      "Cost at initial theta (zeros): 0.693147\n",
      "Expected cost (approx): 0.693\n",
      "Gradient at initial theta (zeros) - first five values only:\n",
      " 0.008475 \n",
      " 0.018788 \n",
      " 0.000078 \n",
      " 0.050345 \n",
      " 0.011501 \n",
      "Expected gradients (approx) - first five values only:\n",
      " 0.0085\n",
      " 0.0188\n",
      " 0.0001\n",
      " 0.0503\n",
      " 0.0115\n"
     ]
    }
   ],
   "source": [
    "%% =========== Part 1: Regularized Logistic Regression ============\n",
    "%  In this part, you are given a dataset with data points that are not\n",
    "%  linearly separable. However, you would still like to use logistic\n",
    "%  regression to classify the data points.\n",
    "%\n",
    "%  To do so, you introduce more features to use -- in particular, you add\n",
    "%  polynomial features to our data matrix (similar to polynomial\n",
    "%  regression).\n",
    "%\n",
    "\n",
    "% Add Polynomial Features\n",
    "\n",
    "% Note that mapFeature also adds a column of ones for us, so the intercept\n",
    "% term is handled\n",
    "X = mapFeature(X(:,1), X(:,2));\n",
    "\n",
    "% Initialize fitting parameters\n",
    "initial_theta = zeros(size(X, 2), 1);\n",
    "\n",
    "% Set regularization parameter lambda to 1\n",
    "lambda = 1;\n",
    "\n",
    "% Compute and display initial cost and gradient for regularized logistic\n",
    "% regression\n",
    "[cost, grad] = costFunctionReg(initial_theta, X, y, lambda);\n",
    "\n",
    "fprintf('Cost at initial theta (zeros): %f\\n', cost);\n",
    "fprintf('Expected cost (approx): 0.693\\n');\n",
    "fprintf('Gradient at initial theta (zeros) - first five values only:\\n');\n",
    "fprintf(' %f \\n', grad(1:5));\n",
    "fprintf('Expected gradients (approx) - first five values only:\\n');\n",
    "fprintf(' 0.0085\\n 0.0188\\n 0.0001\\n 0.0503\\n 0.0115\\n');"
   ]
  },
  {
   "cell_type": "code",
   "execution_count": 40,
   "metadata": {},
   "outputs": [
    {
     "name": "stdout",
     "output_type": "stream",
     "text": [
      "\n",
      "Cost at test theta (with lambda = 10): 3.164509\n",
      "Expected cost (approx): 3.16\n",
      "Gradient at test theta - first five values only:\n",
      " 0.346045 \n",
      " 0.161352 \n",
      " 0.194796 \n",
      " 0.226863 \n",
      " 0.092186 \n",
      "Expected gradients (approx) - first five values only:\n",
      " 0.3460\n",
      " 0.1614\n",
      " 0.1948\n",
      " 0.2269\n",
      " 0.0922\n"
     ]
    }
   ],
   "source": [
    "% Compute and display cost and gradient\n",
    "% with all-ones theta and lambda = 10\n",
    "test_theta = ones(size(X,2),1);\n",
    "[cost, grad] = costFunctionReg(test_theta, X, y, 10);\n",
    "\n",
    "fprintf('\\nCost at test theta (with lambda = 10): %f\\n', cost);\n",
    "fprintf('Expected cost (approx): 3.16\\n');\n",
    "fprintf('Gradient at test theta - first five values only:\\n');\n",
    "fprintf(' %f \\n', grad(1:5));\n",
    "fprintf('Expected gradients (approx) - first five values only:\\n');\n",
    "fprintf(' 0.3460\\n 0.1614\\n 0.1948\\n 0.2269\\n 0.0922\\n');"
   ]
  },
  {
   "cell_type": "markdown",
   "metadata": {},
   "source": [
    "#### 2.3.1 Learning parameters using fminunc\n",
    "\n",
    "Similar to the previous parts, you will use fminunc to learn the optimal parameters θ. If you have completed the cost and gradient for regularized logistic regression (costFunctionReg.m) correctly, you should be able to step through the next part of ex2 reg.m to learn the parameters θ using fminunc."
   ]
  },
  {
   "cell_type": "code",
   "execution_count": 44,
   "metadata": {},
   "outputs": [],
   "source": [
    "%% ============= Part 2: Regularization and Accuracies =============\n",
    "%  Optional Exercise:\n",
    "%  In this part, you will get to try different values of lambda and\n",
    "%  see how regularization affects the decision coundart\n",
    "%\n",
    "%  Try the following values of lambda (0, 1, 10, 100).\n",
    "%\n",
    "%  How does the decision boundary change when you vary lambda? How does\n",
    "%  the training set accuracy vary?\n",
    "%\n",
    "\n",
    "% Initialize fitting parameters\n",
    "initial_theta = zeros(size(X, 2), 1);\n",
    "\n",
    "% Set regularization parameter lambda to 1 (you should vary this)\n",
    "lambda = 1;\n",
    "\n",
    "% Set Options\n",
    "options = optimset('GradObj', 'on', 'MaxIter', 400);\n",
    "\n",
    "% Optimize\n",
    "[theta, J, exit_flag] = ...\n",
    "\tfminunc(@(t)(costFunctionReg(t, X, y, lambda)), initial_theta, options);"
   ]
  },
  {
   "cell_type": "markdown",
   "metadata": {},
   "source": [
    "### 2.4 Plotting the decision boundary\n",
    "\n",
    "To help you visualize the model learned by this classifier, we have provided the function plotDecisionBoundary.m which plots the (non-linear) decision boundary that separates the positive and negative examples. In plotDecisionBoundary.m, we plot the non-linear decision boundary by computing the classifier’s predictions on an evenly spaced grid and then and drew a contour plot of where the predictions change from y = 0 to y = 1.\n",
    "After learning the parameters θ, the next step in ex reg.m will plot a\n",
    "decision boundary similar to Figure 4."
   ]
  },
  {
   "cell_type": "code",
   "execution_count": 45,
   "metadata": {},
   "outputs": [
    {
     "data": {
      "image/png": "[encoded data removed]",
      "text/plain": [
       "<IPython.core.display.Image object>"
      ]
     },
     "metadata": {},
     "output_type": "display_data"
    }
   ],
   "source": [
    "% Plot Boundary\n",
    "plotDecisionBoundary(theta, X, y);\n",
    "hold on;\n",
    "title(sprintf('lambda = %g', lambda))\n",
    "\n",
    "% Labels and Legend\n",
    "xlabel('Microchip Test 1')\n",
    "ylabel('Microchip Test 2')\n",
    "\n",
    "legend('y = 1', 'y = 0', 'Decision boundary')\n",
    "hold off;"
   ]
  },
  {
   "cell_type": "code",
   "execution_count": 46,
   "metadata": {},
   "outputs": [
    {
     "name": "stdout",
     "output_type": "stream",
     "text": [
      "Train Accuracy: 83.050847\n",
      "Expected accuracy (with lambda = 1): 83.1 (approx)\n"
     ]
    }
   ],
   "source": [
    "% Compute accuracy on our training set\n",
    "p = predict(theta, X);\n",
    "\n",
    "fprintf('Train Accuracy: %f\\n', mean(double(p == y)) * 100);\n",
    "fprintf('Expected accuracy (with lambda = 1): 83.1 (approx)\\n');"
   ]
  },
  {
   "cell_type": "markdown",
   "metadata": {},
   "source": [
    "### 2.5 Optional (ungraded) exercises\n",
    "\n",
    "In this part of the exercise, you will get to try out different regularization\n",
    "parameters for the dataset to understand how regularization prevents overfitting.\n",
    "Notice the changes in the decision boundary as you vary λ. With a small λ, you should find that the classifier gets almost every training example correct, but draws a very complicated boundary, thus overfitting the data (Figure 5). This is not a good decision boundary: for example, it predicts that a point at x = (−0.25, 1.5) is accepted (y = 1), which seems to be an incorrect decision given the training set.\n",
    "With a larger λ, you should see a plot that shows an simpler decision\n",
    "boundary which still separates the positives and negatives fairly well. However, if λ is set to too high a value, you will not get a good fit and the decision boundary will not follow the data so well, thus underfitting the data"
   ]
  },
  {
   "cell_type": "code",
   "execution_count": 47,
   "metadata": {},
   "outputs": [
    {
     "data": {
      "image/png": "[encoded data removed]",
      "text/plain": [
       "<IPython.core.display.Image object>"
      ]
     },
     "metadata": {},
     "output_type": "display_data"
    }
   ],
   "source": [
    "% Initialize fitting parameters\n",
    "initial_theta = zeros(size(X, 2), 1);\n",
    "\n",
    "% Set regularization parameter lambda to 1 (you should vary this)\n",
    "lambda = 0;\n",
    "\n",
    "% Set Options\n",
    "options = optimset('GradObj', 'on', 'MaxIter', 400);\n",
    "\n",
    "% Optimize\n",
    "[theta, J, exit_flag] = ...\n",
    "\tfminunc(@(t)(costFunctionReg(t, X, y, lambda)), initial_theta, options);\n",
    "% Plot Boundary\n",
    "plotDecisionBoundary(theta, X, y);\n",
    "hold on;\n",
    "title(sprintf('Overfitting with lambda = %g', lambda))\n",
    "\n",
    "% Labels and Legend\n",
    "xlabel('Microchip Test 1')\n",
    "ylabel('Microchip Test 2')\n",
    "\n",
    "legend('y = 1', 'y = 0', 'Decision boundary')\n",
    "hold off;"
   ]
  },
  {
   "cell_type": "code",
   "execution_count": 48,
   "metadata": {},
   "outputs": [
    {
     "data": {
      "image/png": "[encoded data removed]",
      "text/plain": [
       "<IPython.core.display.Image object>"
      ]
     },
     "metadata": {},
     "output_type": "display_data"
    }
   ],
   "source": [
    "% Initialize fitting parameters\n",
    "initial_theta = zeros(size(X, 2), 1);\n",
    "\n",
    "% Set regularization parameter lambda to 1 (you should vary this)\n",
    "lambda = 100;\n",
    "\n",
    "% Set Options\n",
    "options = optimset('GradObj', 'on', 'MaxIter', 400);\n",
    "\n",
    "% Optimize\n",
    "[theta, J, exit_flag] = ...\n",
    "\tfminunc(@(t)(costFunctionReg(t, X, y, lambda)), initial_theta, options);\n",
    "% Plot Boundary\n",
    "plotDecisionBoundary(theta, X, y);\n",
    "hold on;\n",
    "title(sprintf('Underfitting with lambda = %g', lambda))\n",
    "\n",
    "% Labels and Legend\n",
    "xlabel('Microchip Test 1')\n",
    "ylabel('Microchip Test 2')\n",
    "\n",
    "legend('y = 1', 'y = 0', 'Decision boundary')\n",
    "hold off;"
   ]
  },
  {
   "cell_type": "code",
   "execution_count": null,
   "metadata": {},
   "outputs": [],
   "source": []
  }
 ],
 "metadata": {
  "kernelspec": {
   "display_name": "Octave",
   "language": "octave",
   "name": "octave"
  },
  "language_info": {
   "file_extension": ".m",
   "help_links": [
    {
     "text": "GNU Octave",
     "url": "https://www.gnu.org/software/octave/support.html"
    },
    {
     "text": "Octave Kernel",
     "url": "https://github.com/Calysto/octave_kernel"
    },
    {
     "text": "MetaKernel Magics",
     "url": "https://metakernel.readthedocs.io/en/latest/source/README.html"
    }
   ],
   "mimetype": "text/x-octave",
   "name": "octave",
   "version": "4.2.2"
  }
 },
 "nbformat": 4,
 "nbformat_minor": 4
}
